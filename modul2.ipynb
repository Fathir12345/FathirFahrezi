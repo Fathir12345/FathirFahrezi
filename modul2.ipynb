{
 "cells": [
  {
   "cell_type": "code",
   "execution_count": 1,
   "id": "51e9bfbf-74a3-4047-b57b-120a22dffdfd",
   "metadata": {},
   "outputs": [
    {
     "name": "stdin",
     "output_type": "stream",
     "text": [
      " 10\n",
      " 5\n"
     ]
    },
    {
     "name": "stdout",
     "output_type": "stream",
     "text": [
      "15\n",
      "5\n",
      "50\n",
      "0\n",
      "2.0\n",
      "100000\n"
     ]
    }
   ],
   "source": [
    "import math\n",
    "a = int(input())\n",
    "b = int(input())\n",
    "print(a+b)\n",
    "print(a-b)\n",
    "print(a*b)\n",
    "print(a%b)\n",
    "print(a/b)\n",
    "math.log(a)\n",
    "print(a**b)"
   ]
  },
  {
   "cell_type": "code",
   "execution_count": 3,
   "id": "152625cc-d874-4560-920d-b17d5433e5d1",
   "metadata": {},
   "outputs": [
    {
     "name": "stdin",
     "output_type": "stream",
     "text": [
      "Masukkan bujur kota 1:  10\n",
      "Masukkan lintang kota 1:  15\n",
      "Masukkan bujur kota 2:  25\n",
      "Masukkan lintang kota 2:  35\n"
     ]
    },
    {
     "name": "stdout",
     "output_type": "stream",
     "text": [
      "Jarak antara titik 1 dan titik 2 adalah: 10915.652845426486 km\n"
     ]
    }
   ],
   "source": [
    "import math\n",
    "\n",
    "def haversine(lat1, lon1, lat2, lon2):\n",
    "    lat1_rad = math.radians(lat1)\n",
    "    lon1_rad = math.radians(lon1)\n",
    "    lat2_rad = math.radians(lat2)\n",
    "    lon2_rad = math.radians(lon2)\n",
    "\n",
    "    delta_lat = lat2_rad - lat1_rad\n",
    "    delta_lon = lon2_rad - lon1_rad\n",
    "\n",
    "    a = math.sin(delta_lat / 2)*2 + math.cos(lat1_rad) * math.cos(lat2_rad) * math.sin(delta_lon / 2)*2\n",
    "    c = 2 * math.atan2(math.sqrt(a), math.sqrt(1 - a))\n",
    "\n",
    "    R = 6371.0\n",
    "\n",
    "    distance = R * c\n",
    "    return distance\n",
    "\n",
    "lat1 = float(input(\"Masukkan bujur kota 1: \"))  \n",
    "lon1 = float(input(\"Masukkan lintang kota 1: \")) \n",
    "lat2 = float(input(\"Masukkan bujur kota 2: \"))\n",
    "lon2 = float(input(\"Masukkan lintang kota 2: \")) \n",
    "\n",
    "jarak = haversine(lat1, lon1, lat2, lon2)\n",
    "\n",
    "# Menampilkan hasil \n",
    "print(\"Jarak antara titik 1 dan titik 2 adalah:\", jarak, \"km\")"
   ]
  },
  {
   "cell_type": "code",
   "execution_count": null,
   "id": "48a1f66f-df96-4d76-920c-772dea10caae",
   "metadata": {},
   "outputs": [],
   "source": []
  }
 ],
 "metadata": {
  "kernelspec": {
   "display_name": "Python 3 (ipykernel)",
   "language": "python",
   "name": "python3"
  },
  "language_info": {
   "codemirror_mode": {
    "name": "ipython",
    "version": 3
   },
   "file_extension": ".py",
   "mimetype": "text/x-python",
   "name": "python",
   "nbconvert_exporter": "python",
   "pygments_lexer": "ipython3",
   "version": "3.12.4"
  }
 },
 "nbformat": 4,
 "nbformat_minor": 5
}
